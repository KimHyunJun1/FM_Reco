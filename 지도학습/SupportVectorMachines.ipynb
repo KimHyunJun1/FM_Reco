{
 "cells": [
  {
   "cell_type": "code",
   "execution_count": null,
   "metadata": {},
   "outputs": [],
   "source": [
    "# 서포트 벡터 머신 \n",
    "# 패턴인식 자료분석을 위한 지도학습 모델 , 분류와 회귀 분석에 사용\n",
    "\n"
   ]
  }
 ],
 "metadata": {
  "language_info": {
   "name": "python"
  },
  "orig_nbformat": 4
 },
 "nbformat": 4,
 "nbformat_minor": 2
}

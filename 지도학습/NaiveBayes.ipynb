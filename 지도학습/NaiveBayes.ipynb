{
 "cells": [
  {
   "cell_type": "code",
   "execution_count": 1,
   "metadata": {},
   "outputs": [],
   "source": [
    "import pandas as pd\n",
    "import numpy as np\n",
    "import matplotlib.pyplot as plt\n",
    "import seaborn as sns\n",
    "\n",
    "file_url = 'https://media.githubusercontent.com/media/musthave-ML10/data_source/main/spam.csv'\n",
    "\n",
    "data = pd.read_csv(file_url)\n"
   ]
  },
  {
   "cell_type": "code",
   "execution_count": 2,
   "metadata": {},
   "outputs": [
    {
     "data": {
      "text/html": [
       "<div>\n",
       "<style scoped>\n",
       "    .dataframe tbody tr th:only-of-type {\n",
       "        vertical-align: middle;\n",
       "    }\n",
       "\n",
       "    .dataframe tbody tr th {\n",
       "        vertical-align: top;\n",
       "    }\n",
       "\n",
       "    .dataframe thead th {\n",
       "        text-align: right;\n",
       "    }\n",
       "</style>\n",
       "<table border=\"1\" class=\"dataframe\">\n",
       "  <thead>\n",
       "    <tr style=\"text-align: right;\">\n",
       "      <th></th>\n",
       "      <th>target</th>\n",
       "      <th>text</th>\n",
       "    </tr>\n",
       "  </thead>\n",
       "  <tbody>\n",
       "    <tr>\n",
       "      <th>0</th>\n",
       "      <td>ham</td>\n",
       "      <td>Go until jurong point, crazy.. Available only ...</td>\n",
       "    </tr>\n",
       "    <tr>\n",
       "      <th>1</th>\n",
       "      <td>ham</td>\n",
       "      <td>Ok lar... Joking wif u oni...</td>\n",
       "    </tr>\n",
       "    <tr>\n",
       "      <th>2</th>\n",
       "      <td>spam</td>\n",
       "      <td>Free entry in 2 a wkly comp to win FA Cup fina...</td>\n",
       "    </tr>\n",
       "    <tr>\n",
       "      <th>3</th>\n",
       "      <td>ham</td>\n",
       "      <td>U dun say so early hor... U c already then say...</td>\n",
       "    </tr>\n",
       "    <tr>\n",
       "      <th>4</th>\n",
       "      <td>ham</td>\n",
       "      <td>Nah I don't think he goes to usf, he lives aro...</td>\n",
       "    </tr>\n",
       "  </tbody>\n",
       "</table>\n",
       "</div>"
      ],
      "text/plain": [
       "  target                                               text\n",
       "0    ham  Go until jurong point, crazy.. Available only ...\n",
       "1    ham                      Ok lar... Joking wif u oni...\n",
       "2   spam  Free entry in 2 a wkly comp to win FA Cup fina...\n",
       "3    ham  U dun say so early hor... U c already then say...\n",
       "4    ham  Nah I don't think he goes to usf, he lives aro..."
      ]
     },
     "execution_count": 2,
     "metadata": {},
     "output_type": "execute_result"
    }
   ],
   "source": [
    "data.head()"
   ]
  },
  {
   "cell_type": "code",
   "execution_count": 3,
   "metadata": {},
   "outputs": [
    {
     "data": {
      "text/plain": [
       "array(['ham', 'spam'], dtype=object)"
      ]
     },
     "execution_count": 3,
     "metadata": {},
     "output_type": "execute_result"
    }
   ],
   "source": [
    "data['target'].unique()"
   ]
  },
  {
   "cell_type": "code",
   "execution_count": 5,
   "metadata": {},
   "outputs": [
    {
     "data": {
      "text/plain": [
       "'!\"#$%&\\'()*+,-./:;<=>?@[\\\\]^_`{|}~'"
      ]
     },
     "execution_count": 5,
     "metadata": {},
     "output_type": "execute_result"
    }
   ],
   "source": [
    "import string\n",
    "\n",
    "string.punctuation # 특수문자 모음"
   ]
  },
  {
   "cell_type": "code",
   "execution_count": 7,
   "metadata": {},
   "outputs": [
    {
     "name": "stdout",
     "output_type": "stream",
     "text": [
      "G\n",
      "o\n",
      " \n",
      "u\n",
      "n\n",
      "t\n",
      "i\n",
      "l\n",
      " \n",
      "j\n",
      "u\n",
      "r\n",
      "o\n",
      "n\n",
      "g\n",
      " \n",
      "p\n",
      "o\n",
      "i\n",
      "n\n",
      "t\n",
      ",\n",
      " \n",
      "c\n",
      "r\n",
      "a\n",
      "z\n",
      "y\n",
      ".\n",
      ".\n",
      " \n",
      "A\n",
      "v\n",
      "a\n",
      "i\n",
      "l\n",
      "a\n",
      "b\n",
      "l\n",
      "e\n",
      " \n",
      "o\n",
      "n\n",
      "l\n",
      "y\n",
      " \n",
      "i\n",
      "n\n",
      " \n",
      "b\n",
      "u\n",
      "g\n",
      "i\n",
      "s\n",
      " \n",
      "n\n",
      " \n",
      "g\n",
      "r\n",
      "e\n",
      "a\n",
      "t\n",
      " \n",
      "w\n",
      "o\n",
      "r\n",
      "l\n",
      "d\n",
      " \n",
      "l\n",
      "a\n",
      " \n",
      "e\n",
      " \n",
      "b\n",
      "u\n",
      "f\n",
      "f\n",
      "e\n",
      "t\n",
      ".\n",
      ".\n",
      ".\n",
      " \n",
      "C\n",
      "i\n",
      "n\n",
      "e\n",
      " \n",
      "t\n",
      "h\n",
      "e\n",
      "r\n",
      "e\n",
      " \n",
      "g\n",
      "o\n",
      "t\n",
      " \n",
      "a\n",
      "m\n",
      "o\n",
      "r\n",
      "e\n",
      " \n",
      "w\n",
      "a\n",
      "t\n",
      ".\n",
      ".\n",
      ".\n"
     ]
    }
   ],
   "source": [
    "sample_string = data['text'].loc[0] # 문자열 선택\n",
    "\n",
    "for i in sample_string:\n",
    "  print(i)"
   ]
  },
  {
   "cell_type": "code",
   "execution_count": 8,
   "metadata": {},
   "outputs": [
    {
     "name": "stdout",
     "output_type": "stream",
     "text": [
      "G\n",
      "o\n",
      " \n",
      "u\n",
      "n\n",
      "t\n",
      "i\n",
      "l\n",
      " \n",
      "j\n",
      "u\n",
      "r\n",
      "o\n",
      "n\n",
      "g\n",
      " \n",
      "p\n",
      "o\n",
      "i\n",
      "n\n",
      "t\n",
      " \n",
      "c\n",
      "r\n",
      "a\n",
      "z\n",
      "y\n",
      " \n",
      "A\n",
      "v\n",
      "a\n",
      "i\n",
      "l\n",
      "a\n",
      "b\n",
      "l\n",
      "e\n",
      " \n",
      "o\n",
      "n\n",
      "l\n",
      "y\n",
      " \n",
      "i\n",
      "n\n",
      " \n",
      "b\n",
      "u\n",
      "g\n",
      "i\n",
      "s\n",
      " \n",
      "n\n",
      " \n",
      "g\n",
      "r\n",
      "e\n",
      "a\n",
      "t\n",
      " \n",
      "w\n",
      "o\n",
      "r\n",
      "l\n",
      "d\n",
      " \n",
      "l\n",
      "a\n",
      " \n",
      "e\n",
      " \n",
      "b\n",
      "u\n",
      "f\n",
      "f\n",
      "e\n",
      "t\n",
      " \n",
      "C\n",
      "i\n",
      "n\n",
      "e\n",
      " \n",
      "t\n",
      "h\n",
      "e\n",
      "r\n",
      "e\n",
      " \n",
      "g\n",
      "o\n",
      "t\n",
      " \n",
      "a\n",
      "m\n",
      "o\n",
      "r\n",
      "e\n",
      " \n",
      "w\n",
      "a\n",
      "t\n"
     ]
    }
   ],
   "source": [
    "for i in sample_string: # 문자열의 문자를 하나씩 출력\n",
    "  if i not in string.punctuation: # 특수 기호가 아닐경우 출력\n",
    "    print(i)"
   ]
  },
  {
   "cell_type": "code",
   "execution_count": 10,
   "metadata": {},
   "outputs": [],
   "source": [
    "# 특수기호 제외 글자 리스트 담기\n",
    "\n",
    "new_string = []\n",
    "for i in sample_string:\n",
    "  if i not in string.punctuation:\n",
    "    new_string.append(i)\n",
    "    \n",
    "new_string = ''.join(new_string) # 리스트를 문자열 형태로 변환"
   ]
  },
  {
   "cell_type": "code",
   "execution_count": 11,
   "metadata": {},
   "outputs": [],
   "source": [
    "# remove function\n",
    "\n",
    "def remove_punc(x):\n",
    "  new_string = []\n",
    "  for i in x:\n",
    "    if i not in string.punctuation:\n",
    "      new_string.append(i)\n",
    "  new_string = ''.join(new_string)\n",
    "  \n",
    "  return new_string"
   ]
  },
  {
   "cell_type": "code",
   "execution_count": 15,
   "metadata": {},
   "outputs": [],
   "source": [
    "# 한줄 한줄씩 함수 실행\n",
    "data['text'] = data['text'].apply(remove_punc)"
   ]
  },
  {
   "cell_type": "code",
   "execution_count": 20,
   "metadata": {},
   "outputs": [
    {
     "data": {
      "text/plain": [
       "['i',\n",
       " 'me',\n",
       " 'my',\n",
       " 'myself',\n",
       " 'we',\n",
       " 'our',\n",
       " 'ours',\n",
       " 'ourselves',\n",
       " 'you',\n",
       " \"you're\",\n",
       " \"you've\",\n",
       " \"you'll\",\n",
       " \"you'd\",\n",
       " 'your',\n",
       " 'yours',\n",
       " 'yourself',\n",
       " 'yourselves',\n",
       " 'he',\n",
       " 'him',\n",
       " 'his',\n",
       " 'himself',\n",
       " 'she',\n",
       " \"she's\",\n",
       " 'her',\n",
       " 'hers',\n",
       " 'herself',\n",
       " 'it',\n",
       " \"it's\",\n",
       " 'its',\n",
       " 'itself',\n",
       " 'they',\n",
       " 'them',\n",
       " 'their',\n",
       " 'theirs',\n",
       " 'themselves',\n",
       " 'what',\n",
       " 'which',\n",
       " 'who',\n",
       " 'whom',\n",
       " 'this',\n",
       " 'that',\n",
       " \"that'll\",\n",
       " 'these',\n",
       " 'those',\n",
       " 'am',\n",
       " 'is',\n",
       " 'are',\n",
       " 'was',\n",
       " 'were',\n",
       " 'be',\n",
       " 'been',\n",
       " 'being',\n",
       " 'have',\n",
       " 'has',\n",
       " 'had',\n",
       " 'having',\n",
       " 'do',\n",
       " 'does',\n",
       " 'did',\n",
       " 'doing',\n",
       " 'a',\n",
       " 'an',\n",
       " 'the',\n",
       " 'and',\n",
       " 'but',\n",
       " 'if',\n",
       " 'or',\n",
       " 'because',\n",
       " 'as',\n",
       " 'until',\n",
       " 'while',\n",
       " 'of',\n",
       " 'at',\n",
       " 'by',\n",
       " 'for',\n",
       " 'with',\n",
       " 'about',\n",
       " 'against',\n",
       " 'between',\n",
       " 'into',\n",
       " 'through',\n",
       " 'during',\n",
       " 'before',\n",
       " 'after',\n",
       " 'above',\n",
       " 'below',\n",
       " 'to',\n",
       " 'from',\n",
       " 'up',\n",
       " 'down',\n",
       " 'in',\n",
       " 'out',\n",
       " 'on',\n",
       " 'off',\n",
       " 'over',\n",
       " 'under',\n",
       " 'again',\n",
       " 'further',\n",
       " 'then',\n",
       " 'once',\n",
       " 'here',\n",
       " 'there',\n",
       " 'when',\n",
       " 'where',\n",
       " 'why',\n",
       " 'how',\n",
       " 'all',\n",
       " 'any',\n",
       " 'both',\n",
       " 'each',\n",
       " 'few',\n",
       " 'more',\n",
       " 'most',\n",
       " 'other',\n",
       " 'some',\n",
       " 'such',\n",
       " 'no',\n",
       " 'nor',\n",
       " 'not',\n",
       " 'only',\n",
       " 'own',\n",
       " 'same',\n",
       " 'so',\n",
       " 'than',\n",
       " 'too',\n",
       " 'very',\n",
       " 's',\n",
       " 't',\n",
       " 'can',\n",
       " 'will',\n",
       " 'just',\n",
       " 'don',\n",
       " \"don't\",\n",
       " 'should',\n",
       " \"should've\",\n",
       " 'now',\n",
       " 'd',\n",
       " 'll',\n",
       " 'm',\n",
       " 'o',\n",
       " 're',\n",
       " 've',\n",
       " 'y',\n",
       " 'ain',\n",
       " 'aren',\n",
       " \"aren't\",\n",
       " 'couldn',\n",
       " \"couldn't\",\n",
       " 'didn',\n",
       " \"didn't\",\n",
       " 'doesn',\n",
       " \"doesn't\",\n",
       " 'hadn',\n",
       " \"hadn't\",\n",
       " 'hasn',\n",
       " \"hasn't\",\n",
       " 'haven',\n",
       " \"haven't\",\n",
       " 'isn',\n",
       " \"isn't\",\n",
       " 'ma',\n",
       " 'mightn',\n",
       " \"mightn't\",\n",
       " 'mustn',\n",
       " \"mustn't\",\n",
       " 'needn',\n",
       " \"needn't\",\n",
       " 'shan',\n",
       " \"shan't\",\n",
       " 'shouldn',\n",
       " \"shouldn't\",\n",
       " 'wasn',\n",
       " \"wasn't\",\n",
       " 'weren',\n",
       " \"weren't\",\n",
       " 'won',\n",
       " \"won't\",\n",
       " 'wouldn',\n",
       " \"wouldn't\"]"
      ]
     },
     "execution_count": 20,
     "metadata": {},
     "output_type": "execute_result"
    }
   ],
   "source": [
    "# 불용어 파악\n",
    "\n",
    "# import nltk\n",
    "# nltk.download('stopwords') # 불용어 가져오기\n",
    "from nltk.corpus import stopwords\n",
    "\n",
    "stopwords.words('english')"
   ]
  },
  {
   "cell_type": "code",
   "execution_count": 21,
   "metadata": {},
   "outputs": [
    {
     "name": "stdout",
     "output_type": "stream",
     "text": [
      "go\n",
      "jurong\n",
      "point,\n",
      "crazy..\n",
      "available\n",
      "bugis\n",
      "n\n",
      "great\n",
      "world\n",
      "la\n",
      "e\n",
      "buffet...\n",
      "cine\n",
      "got\n",
      "amore\n",
      "wat...\n"
     ]
    }
   ],
   "source": [
    "for i in sample_string.split(): # 순회\n",
    "  if i not in stopwords.words('english'): # 불용어가 아니면 소문자로 변환\n",
    "    print(i.lower()) # 소문자로 출력"
   ]
  },
  {
   "cell_type": "code",
   "execution_count": 22,
   "metadata": {},
   "outputs": [
    {
     "data": {
      "text/plain": [
       "'go jurong point, crazy.. available bugis n great world la e buffet... cine got amore wat...'"
      ]
     },
     "execution_count": 22,
     "metadata": {},
     "output_type": "execute_result"
    }
   ],
   "source": [
    "new_string = []\n",
    "\n",
    "for i in sample_string.split():\n",
    "  if i.lower() not in stopwords.words('english'):\n",
    "    new_string.append(i.lower())\n",
    "    \n",
    "new_string = ' '.join(new_string) # 공백 단위로 묶기\n",
    "\n",
    "new_string"
   ]
  },
  {
   "cell_type": "code",
   "execution_count": 24,
   "metadata": {},
   "outputs": [
    {
     "data": {
      "text/plain": [
       "0       go jurong point crazy available bugis n great ...\n",
       "1                                 ok lar joking wif u oni\n",
       "2       free entry 2 wkly comp win fa cup final tkts 2...\n",
       "3                     u dun say early hor u c already say\n",
       "4             nah dont think goes usf lives around though\n",
       "                              ...                        \n",
       "5569    2nd time tried 2 contact u u £750 pound prize ...\n",
       "5570                          ü b going esplanade fr home\n",
       "5571                          pity mood soany suggestions\n",
       "5572    guy bitching acted like id interested buying s...\n",
       "5573                                       rofl true name\n",
       "Name: text, Length: 5574, dtype: object"
      ]
     },
     "execution_count": 24,
     "metadata": {},
     "output_type": "execute_result"
    }
   ],
   "source": [
    "def stop_words(x):\n",
    "  new_string = []\n",
    "  for i in x.split():\n",
    "    if i.lower() not in stopwords.words('english'):\n",
    "      # 소문자 변환 한것이 불용어가 아니면, \n",
    "      new_string.append(i.lower())\n",
    "  new_string = ' '.join(new_string)\n",
    "  \n",
    "  return new_string\n",
    "\n",
    "\n",
    "\n",
    "data['text'] = data['text'].apply(stop_words) # 텍스트에 stop_words 함수 적용\n",
    "data['text']"
   ]
  },
  {
   "cell_type": "code",
   "execution_count": 25,
   "metadata": {},
   "outputs": [
    {
     "data": {
      "text/plain": [
       "0       0\n",
       "1       0\n",
       "2       1\n",
       "3       0\n",
       "4       0\n",
       "       ..\n",
       "5569    1\n",
       "5570    0\n",
       "5571    0\n",
       "5572    0\n",
       "5573    0\n",
       "Name: target, Length: 5574, dtype: int64"
      ]
     },
     "execution_count": 25,
     "metadata": {},
     "output_type": "execute_result"
    }
   ],
   "source": [
    "data['target'] = data['target'].map({'spam':1, 'ham':0}) # text를 숫자로 변환\n",
    "\n",
    "data['target']"
   ]
  },
  {
   "cell_type": "code",
   "execution_count": 27,
   "metadata": {},
   "outputs": [
    {
     "name": "stdout",
     "output_type": "stream",
     "text": [
      "  (0, 1181)\t1\n",
      "  (0, 1414)\t1\n",
      "  (0, 1879)\t1\n",
      "  (0, 1881)\t1\n",
      "  (0, 2214)\t1\n",
      "  (0, 2497)\t1\n",
      "  (0, 3791)\t1\n",
      "  (0, 3848)\t1\n",
      "  (0, 3888)\t1\n",
      "  (0, 4687)\t1\n",
      "  (0, 4847)\t1\n",
      "  (0, 6433)\t1\n",
      "  (0, 8947)\t1\n",
      "  (0, 9184)\t1\n",
      "  (1, 4655)\t1\n",
      "  (1, 4886)\t1\n",
      "  (1, 5995)\t1\n",
      "  (1, 6027)\t1\n",
      "  (1, 9079)\t1\n",
      "  (2, 71)\t1\n",
      "  (2, 441)\t1\n",
      "  (2, 454)\t1\n",
      "  (2, 875)\t1\n",
      "  (2, 1267)\t1\n",
      "  (2, 2330)\t1\n",
      "  :\t:\n",
      "  (5570, 3188)\t1\n",
      "  (5570, 3564)\t1\n",
      "  (5570, 3810)\t1\n",
      "  (5570, 4188)\t1\n",
      "  (5571, 5566)\t1\n",
      "  (5571, 6359)\t1\n",
      "  (5571, 7611)\t1\n",
      "  (5571, 7986)\t1\n",
      "  (5572, 999)\t1\n",
      "  (5572, 1665)\t1\n",
      "  (5572, 1916)\t1\n",
      "  (5572, 3103)\t1\n",
      "  (5572, 3577)\t1\n",
      "  (5572, 3701)\t1\n",
      "  (5572, 3950)\t1\n",
      "  (5572, 4343)\t1\n",
      "  (5572, 4480)\t1\n",
      "  (5572, 5000)\t1\n",
      "  (5572, 5777)\t1\n",
      "  (5572, 7636)\t1\n",
      "  (5572, 8731)\t1\n",
      "  (5572, 8997)\t1\n",
      "  (5573, 5688)\t1\n",
      "  (5573, 7052)\t1\n",
      "  (5573, 8538)\t1\n"
     ]
    }
   ],
   "source": [
    "x = data['text'] # 독립변수\n",
    "\n",
    "y = data['target'] # 종속변수\n",
    "\n",
    "from sklearn.feature_extraction.text import CountVectorizer\n",
    "\n",
    "cv = CountVectorizer()\n",
    "\n",
    "cv.fit(x)\n",
    "\n",
    "cv.vocabulary_\n",
    "\n",
    "x = cv.transform(x)\n",
    "\n",
    "print(x)"
   ]
  },
  {
   "cell_type": "code",
   "execution_count": 47,
   "metadata": {},
   "outputs": [],
   "source": [
    "from sklearn.model_selection import train_test_split\n",
    "\n",
    "x_train, x_test, y_train, y_test = train_test_split(x,y, test_size= 0.2, random_state= 100) # 학습셋 테스트셋 구분\n",
    "\n",
    "from sklearn.naive_bayes import MultinomialNB\n",
    "\n",
    "model = MultinomialNB() # 모델 객체 생성\n",
    "model.fit(x_train, y_train) # 학습\n",
    "\n",
    "pred = model.predict(x_test) # 예측"
   ]
  },
  {
   "cell_type": "code",
   "execution_count": 48,
   "metadata": {},
   "outputs": [],
   "source": [
    "from sklearn.metrics import accuracy_score, confusion_matrix"
   ]
  },
  {
   "cell_type": "code",
   "execution_count": 40,
   "metadata": {},
   "outputs": [
    {
     "data": {
      "text/plain": [
       "0.9856502242152466"
      ]
     },
     "execution_count": 40,
     "metadata": {},
     "output_type": "execute_result"
    }
   ],
   "source": [
    "accuracy_score(y_test, pred)"
   ]
  },
  {
   "cell_type": "code",
   "execution_count": 41,
   "metadata": {},
   "outputs": [
    {
     "name": "stdout",
     "output_type": "stream",
     "text": [
      "[[965  12]\n",
      " [  4 134]]\n"
     ]
    }
   ],
   "source": [
    "print(confusion_matrix(y_test, pred))"
   ]
  },
  {
   "cell_type": "code",
   "execution_count": 54,
   "metadata": {},
   "outputs": [
    {
     "data": {
      "text/plain": [
       "array([[974,   3],\n",
       "       [ 22, 116]], dtype=int64)"
      ]
     },
     "execution_count": 54,
     "metadata": {},
     "output_type": "execute_result"
    }
   ],
   "source": [
    "from sklearn.naive_bayes import GaussianNB, BernoulliNB\n",
    "# BernoulliNB()\n",
    "bn = BernoulliNB()\n",
    "bn.fit(x_train, y_train)\n",
    "pred = bn.predict(x_test)\n",
    "\n",
    "accuracy_score(y_test, pred)\n",
    "confusion_matrix(y_test, pred)\n",
    "\n",
    "\n",
    "\n"
   ]
  },
  {
   "cell_type": "code",
   "execution_count": 56,
   "metadata": {},
   "outputs": [
    {
     "data": {
      "text/plain": [
       "array([[869, 108],\n",
       "       [ 10, 128]], dtype=int64)"
      ]
     },
     "execution_count": 56,
     "metadata": {},
     "output_type": "execute_result"
    }
   ],
   "source": [
    "# GaussianNB()\n",
    "gn = GaussianNB()\n",
    "gn.fit(x_train.toarray(), y_train)\n",
    "pred = gn.predict(x_test.toarray())\n",
    "\n",
    "accuracy_score(y_test, pred)\n",
    "confusion_matrix(y_test, pred)"
   ]
  }
 ],
 "metadata": {
  "kernelspec": {
   "display_name": "Python 3.8.8 ('.venv': venv)",
   "language": "python",
   "name": "python3"
  },
  "language_info": {
   "codemirror_mode": {
    "name": "ipython",
    "version": 3
   },
   "file_extension": ".py",
   "mimetype": "text/x-python",
   "name": "python",
   "nbconvert_exporter": "python",
   "pygments_lexer": "ipython3",
   "version": "3.8.8"
  },
  "orig_nbformat": 4,
  "vscode": {
   "interpreter": {
    "hash": "60871adcaebd0508a43697b74bfb2f461501ea4d944676c180c46a93b2cef36d"
   }
  }
 },
 "nbformat": 4,
 "nbformat_minor": 2
}
